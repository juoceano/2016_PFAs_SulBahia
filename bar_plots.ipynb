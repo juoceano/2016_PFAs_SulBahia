{
 "cells": [
  {
   "cell_type": "code",
   "execution_count": 1,
   "metadata": {},
   "outputs": [],
   "source": [
    "import pandas as pd\n",
    "\n",
    "\n",
    "fmts = ['png', 'eps', 'svg', 'pdf']\n",
    "figkw = dict(dpi=300, transparent=True)\n",
    "\n",
    "\n",
    "dfs = pd.read_csv('Data_PFAs_Soil.csv', skiprows=1, index_col=0).T\n",
    "dfl = pd.read_csv('Data_PFAs_Leaves.csv', skiprows=1, index_col=0).T"
   ]
  },
  {
   "cell_type": "code",
   "execution_count": 2,
   "metadata": {},
   "outputs": [],
   "source": [
    "# dfl = dfl[(dfl.T != 0).any()]  # Eliminate rows with all zeroes.\n",
    "dfl = dfl.loc[:, (dfl != 0).any(axis=0)]  # Eliminate columns with all zeroes.\n",
    "\n",
    "# dfs = dfs[(dfs.T != 0).any()]  # Eliminate rows with all zeroes.\n",
    "dfs = dfs.loc[:, (dfs != 0).any(axis=0)]  # Eliminate columns with all zeroes."
   ]
  },
  {
   "cell_type": "code",
   "execution_count": 3,
   "metadata": {},
   "outputs": [],
   "source": [
    "dfl = dfl.reindex(sorted(dfl.columns), axis=1).iloc[::-1]\n",
    "dfs = dfs.reindex(sorted(dfs.columns), axis=1).iloc[::-1]"
   ]
  },
  {
   "cell_type": "code",
   "execution_count": 4,
   "metadata": {},
   "outputs": [
    {
     "data": {
      "text/plain": [
       "(10, 11)"
      ]
     },
     "execution_count": 4,
     "metadata": {},
     "output_type": "execute_result"
    }
   ],
   "source": [
    "import matplotlib.pyplot as plt\n",
    "import matplotlib.ticker as mtick\n",
    "\n",
    "\n",
    "colors = plt.rcParams['axes.prop_cycle'].by_key()['color']\n",
    "prop = sorted(set(dfl.columns.tolist() + dfs.columns.tolist()))\n",
    "\n",
    "len(colors), len(prop)"
   ]
  },
  {
   "cell_type": "markdown",
   "metadata": {},
   "source": [
    "We need 1 more color!"
   ]
  },
  {
   "cell_type": "code",
   "execution_count": 5,
   "metadata": {},
   "outputs": [],
   "source": [
    "colors.insert(0, 'firebrick')"
   ]
  },
  {
   "cell_type": "code",
   "execution_count": 6,
   "metadata": {},
   "outputs": [
    {
     "data": {
      "text/plain": [
       "{'Br-PFOS': 'firebrick',\n",
       " 'L-FOSA': '#1f77b4',\n",
       " 'L-PFOA ': '#ff7f0e',\n",
       " 'L-PFOS': '#2ca02c',\n",
       " 'PFDA': '#d62728',\n",
       " 'PFDoDA': '#9467bd',\n",
       " 'PFHpA': '#8c564b',\n",
       " 'PFHxA': '#e377c2',\n",
       " 'PFNA': '#7f7f7f',\n",
       " 'PFTeDA': '#bcbd22',\n",
       " 'PFUnDA': '#17becf'}"
      ]
     },
     "execution_count": 6,
     "metadata": {},
     "output_type": "execute_result"
    }
   ],
   "source": [
    "colors = dict(zip(prop, colors))\n",
    "colors"
   ]
  },
  {
   "cell_type": "code",
   "execution_count": 7,
   "metadata": {},
   "outputs": [
    {
     "data": {
      "image/png": "[encoded data removed]",
      "text/plain": [
       "<matplotlib.figure.Figure at 0x7fa6d598d390>"
      ]
     },
     "metadata": {},
     "output_type": "display_data"
    }
   ],
   "source": [
    "%matplotlib inline\n",
    "\n",
    "\n",
    "fig, ax = plt.subplots(figsize=(5, 7))\n",
    "\n",
    "dfl.plot.barh(ax=ax, stacked=True, legend=False,\n",
    "              color=[colors[col] for col in dfl.columns])\n",
    "ax.set_xlim(0, 5500)\n",
    "ax.xaxis.set_major_formatter(mtick.ScalarFormatter(useMathText=True))\n",
    "ax.ticklabel_format(style='sci', axis='x', scilimits=(0, 0))\n",
    "ax.set_xlabel(r'Concentration (pg g$^{-1}$)')\n",
    "\n",
    "for fmt in fmts:\n",
    "    fig.savefig('barh_leaves.{}'.format(fmt), format=fmt, **figkw)"
   ]
  },
  {
   "cell_type": "code",
   "execution_count": 8,
   "metadata": {},
   "outputs": [
    {
     "data": {
      "image/png": "[encoded data removed]",
      "text/plain": [
       "<matplotlib.figure.Figure at 0x7fa6d24576d8>"
      ]
     },
     "metadata": {},
     "output_type": "display_data"
    }
   ],
   "source": [
    "fig, ax = plt.subplots(figsize=(5, 7))\n",
    "\n",
    "dfs.plot.barh(ax=ax, stacked=True, legend=False,\n",
    "              color=[colors[col] for col in dfs.columns])\n",
    "ax.set_xlim(0, 5500)\n",
    "ax.xaxis.set_major_formatter(mtick.ScalarFormatter(useMathText=True))\n",
    "ax.ticklabel_format(style='sci', axis='x', scilimits=(0, 0))\n",
    "ax.set_xlabel(r'Concentration (pg g$^{-1}$)')\n",
    "\n",
    "for fmt in fmts:\n",
    "    fig.savefig('barh_soil.{}'.format(fmt), format=fmt, **figkw)"
   ]
  },
  {
   "cell_type": "code",
   "execution_count": 9,
   "metadata": {},
   "outputs": [
    {
     "data": {
      "image/png": "[encoded data removed]",
      "text/plain": [
       "<matplotlib.figure.Figure at 0x7fa6d34a8400>"
      ]
     },
     "metadata": {},
     "output_type": "display_data"
    }
   ],
   "source": [
    "import matplotlib.patches as mpatches\n",
    "\n",
    "\n",
    "patches = [\n",
    "    mpatches.Patch(color=color, label=label)\n",
    "    for label, color in colors.items()]\n",
    "\n",
    "plt.legend(patches, colors.keys(), loc='center', frameon=False)\n",
    "plt.axis('off')\n",
    "\n",
    "for fmt in fmts:\n",
    "    plt.savefig('barh_legend.{}'.format(fmt), format=fmt, **figkw)"
   ]
  }
 ],
 "metadata": {
  "kernelspec": {
   "display_name": "Python [default]",
   "language": "python",
   "name": "python3"
  },
  "language_info": {
   "codemirror_mode": {
    "name": "ipython",
    "version": 3
   },
   "file_extension": ".py",
   "mimetype": "text/x-python",
   "name": "python",
   "nbconvert_exporter": "python",
   "pygments_lexer": "ipython3",
   "version": "3.6.4"
  }
 },
 "nbformat": 4,
 "nbformat_minor": 2
}
